{
 "cells": [
  {
   "cell_type": "code",
   "execution_count": 1,
   "metadata": {},
   "outputs": [],
   "source": [
    "import bs4"
   ]
  },
  {
   "cell_type": "code",
   "execution_count": 3,
   "metadata": {},
   "outputs": [],
   "source": [
    "with open(\"text.html\") as f:\n",
    "    text = f.read()"
   ]
  },
  {
   "cell_type": "code",
   "execution_count": 4,
   "metadata": {},
   "outputs": [],
   "source": [
    "soup = bs4.BeautifulSoup(text)"
   ]
  },
  {
   "cell_type": "code",
   "execution_count": 5,
   "metadata": {},
   "outputs": [
    {
     "data": {
      "text/plain": [
       "bs4.BeautifulSoup"
      ]
     },
     "execution_count": 5,
     "metadata": {},
     "output_type": "execute_result"
    }
   ],
   "source": [
    "type(soup)"
   ]
  },
  {
   "cell_type": "code",
   "execution_count": 9,
   "metadata": {},
   "outputs": [
    {
     "data": {
      "text/plain": [
       "<title>Popular Quotes</title>"
      ]
     },
     "execution_count": 9,
     "metadata": {},
     "output_type": "execute_result"
    }
   ],
   "source": [
    "soup.head.title"
   ]
  },
  {
   "cell_type": "code",
   "execution_count": 10,
   "metadata": {},
   "outputs": [
    {
     "data": {
      "text/plain": [
       "<h2 class=\"brownBackground\">Browse By Tag</h2>"
      ]
     },
     "execution_count": 10,
     "metadata": {},
     "output_type": "execute_result"
    }
   ],
   "source": [
    "soup.h2"
   ]
  },
  {
   "cell_type": "code",
   "execution_count": 14,
   "metadata": {},
   "outputs": [],
   "source": [
    "links = soup.find_all(\"a\")"
   ]
  },
  {
   "cell_type": "code",
   "execution_count": 19,
   "metadata": {},
   "outputs": [
    {
     "data": {
      "text/plain": [
       "True"
      ]
     },
     "execution_count": 19,
     "metadata": {},
     "output_type": "execute_result"
    }
   ],
   "source": [
    "links[0].has_attr(\"href\")"
   ]
  },
  {
   "cell_type": "code",
   "execution_count": 20,
   "metadata": {},
   "outputs": [
    {
     "data": {
      "text/plain": [
       "'/'"
      ]
     },
     "execution_count": 20,
     "metadata": {},
     "output_type": "execute_result"
    }
   ],
   "source": [
    "links[0][\"href\"]"
   ]
  },
  {
   "cell_type": "code",
   "execution_count": 22,
   "metadata": {},
   "outputs": [
    {
     "name": "stdout",
     "output_type": "stream",
     "text": [
      "<a class=\"siteHeader__sponsoredNavLink\" data-reactid=\".1k3o2yey48w.1.0.3.0.2.0.1.0.0.9.0\" href=\"https://www.goodreads.com/audible\"><div data-reactid=\".1k3o2yey48w.1.0.3.0.2.0.1.0.0.9.0.0\"><div class=\"siteHeader__navDivider\" data-reactid=\".1k3o2yey48w.1.0.3.0.2.0.1.0.0.9.0.0.0\"></div><span data-reactid=\".1k3o2yey48w.1.0.3.0.2.0.1.0.0.9.0.0.1\">Listen with Audible</span></div></a>\n",
      "<a class=\"siteHeader__sponsoredNavLink\" data-reactid=\".1k3o2yey48w.2.0.0.0.2.0.1.0.0.9.0\" href=\"https://www.goodreads.com/audible\"><div data-reactid=\".1k3o2yey48w.2.0.0.0.2.0.1.0.0.9.0.0\"><div class=\"siteHeader__navDivider\" data-reactid=\".1k3o2yey48w.2.0.0.0.2.0.1.0.0.9.0.0.0\"></div><span data-reactid=\".1k3o2yey48w.2.0.0.0.2.0.1.0.0.9.0.0.1\">Listen with Audible</span></div></a>\n",
      "<a class=\"leftAlignedImage\" href=\"https://images.gr-assets.com/quotes/1511992603p8/8630.jpg\">\n",
      "<img alt=\"I'm selfish, impatient and a little insecure. I make mistakes, I am out of control\" src=\"https://images.gr-assets.com/quotes/1511992603p2/8630.jpg\"/>\n",
      "</a>\n",
      "<a class=\"leftAlignedImage\" href=\"https://images.gr-assets.com/quotes/1387503187p8/10554.jpg\">\n",
      "<img alt=\"Friendship ... is born at the moment when one man says to another What! You\" src=\"https://images.gr-assets.com/quotes/1387503187p2/10554.jpg\"/>\n",
      "</a>\n",
      "<a class=\"leftAlignedImage\" href=\"https://images.gr-assets.com/quotes/1387506524p8/2534.jpg\">\n",
      "<img alt=\"We accept the love we think we deserve.\" src=\"https://images.gr-assets.com/quotes/1387506524p2/2534.jpg\"/>\n",
      "</a>\n",
      "<a class=\"leftAlignedImage\" href=\"https://images.gr-assets.com/quotes/1512016299p8/12379.jpg\">\n",
      "<img alt=\"I believe that everything happens for a reason. People change so that you can learn\" src=\"https://images.gr-assets.com/quotes/1512016299p2/12379.jpg\"/>\n",
      "</a>\n",
      "<a class=\"responsiveSiteFooter__link\" href=\"https://help.goodreads.com\">Help</a>\n",
      "<a class=\"responsiveSiteFooter__socialLink\" href=\"https://www.facebook.com/Goodreads/\"><img alt=\"Goodreads on Facebook\" src=\"https://s.gr-assets.com/assets/site_footer/footer_facebook-ea4ab848f8e86c5f5c98311bc9495a1b.svg\"/>\n",
      "</a>\n",
      "<a class=\"responsiveSiteFooter__socialLink\" href=\"https://twitter.com/goodreads\"><img alt=\"Goodreads on Twitter\" src=\"https://s.gr-assets.com/assets/site_footer/footer_twitter-126b3ee80481a763f7fccb06ca03053c.svg\"/>\n",
      "</a>\n",
      "<a class=\"responsiveSiteFooter__socialLink\" href=\"https://www.instagram.com/goodreads/\"><img alt=\"Goodreads on Instagram\" src=\"https://s.gr-assets.com/assets/site_footer/footer_instagram-d59e3887020f12bcdb12e6c539579d85.svg\"/>\n",
      "</a>\n",
      "<a class=\"responsiveSiteFooter__socialLink\" href=\"https://www.linkedin.com/company/goodreads-com/\"><img alt=\"Goodreads on LinkedIn\" src=\"https://s.gr-assets.com/assets/site_footer/footer_linkedin-5b820f4703eff965672594ef4d10e33c.svg\"/>\n",
      "</a>\n",
      "<a href=\"https://itunes.apple.com/app/apple-store/id355833469?pt=325668&amp;ct=mw_footer&amp;mt=8\"><img alt=\"Download app for iOS\" src=\"https://s.gr-assets.com/assets/app/badge-ios-desktop-homepage-6ac7ae16eabce57f6c855361656a7540.svg\"/>\n",
      "</a>\n",
      "<a href=\"https://play.google.com/store/apps/details?id=com.goodreads&amp;utm_source=mw_footer&amp;pcampaignid=MKT-Other-global-all-co-prtnr-py-PartBadge-Mar2515-1\"><img alt=\"Download app for Android\" src=\"https://s.gr-assets.com/assets/app/badge-android-desktop-home-0f517cbae4d56c88a128d27a7bea1118.png\" srcset=\"https://s.gr-assets.com/assets/app/badge-android-desktop-home-2x-e31514e1fb4dddecf9293aa526a64cfe.png 2x\"/>\n",
      "</a>\n"
     ]
    }
   ],
   "source": [
    "for link in links:\n",
    "    if link.has_attr(\"href\"):\n",
    "        if link[\"href\"].startswith(\"http\"):\n",
    "            print(link)"
   ]
  },
  {
   "cell_type": "code",
   "execution_count": 24,
   "metadata": {},
   "outputs": [],
   "source": [
    "quotes = soup.find_all(\"div\",{\"class\": \"quote\"})"
   ]
  },
  {
   "cell_type": "code",
   "execution_count": 26,
   "metadata": {},
   "outputs": [],
   "source": [
    "quote = quotes[0]"
   ]
  },
  {
   "cell_type": "code",
   "execution_count": 31,
   "metadata": {},
   "outputs": [],
   "source": [
    "quoteText = quote.find_next(\"div\",{\"class\": \"quoteText\"})"
   ]
  },
  {
   "cell_type": "code",
   "execution_count": 35,
   "metadata": {},
   "outputs": [],
   "source": [
    "lines = quoteText.text.split(\"\\n\")"
   ]
  },
  {
   "cell_type": "code",
   "execution_count": 36,
   "metadata": {},
   "outputs": [
    {
     "data": {
      "text/plain": [
       "['',\n",
       " \"      “Don't cry because it's over, smile because it happened.”\",\n",
       " '    ―',\n",
       " '  ',\n",
       " '    Dr. Seuss',\n",
       " '  ',\n",
       " '']"
      ]
     },
     "execution_count": 36,
     "metadata": {},
     "output_type": "execute_result"
    }
   ],
   "source": [
    "lines"
   ]
  },
  {
   "cell_type": "code",
   "execution_count": 38,
   "metadata": {},
   "outputs": [],
   "source": [
    "quote_line = lines[1].strip()[1:-1]\n",
    "quote_author = lines[-3].strip()"
   ]
  },
  {
   "cell_type": "code",
   "execution_count": 39,
   "metadata": {},
   "outputs": [
    {
     "data": {
      "text/plain": [
       "\"Don't cry because it's over, smile because it happened.\""
      ]
     },
     "execution_count": 39,
     "metadata": {},
     "output_type": "execute_result"
    }
   ],
   "source": [
    "quote_line"
   ]
  },
  {
   "cell_type": "code",
   "execution_count": 40,
   "metadata": {},
   "outputs": [
    {
     "data": {
      "text/plain": [
       "'Dr. Seuss'"
      ]
     },
     "execution_count": 40,
     "metadata": {},
     "output_type": "execute_result"
    }
   ],
   "source": [
    "quote_author"
   ]
  },
  {
   "cell_type": "code",
   "execution_count": 41,
   "metadata": {},
   "outputs": [],
   "source": [
    "links = quote.find_all(\"a\")"
   ]
  },
  {
   "cell_type": "code",
   "execution_count": 42,
   "metadata": {},
   "outputs": [],
   "source": [
    "tags = []\n",
    "for link in links:\n",
    "    if link.has_attr(\"href\"):\n",
    "        if link[\"href\"].startswith(\"/quotes/tag\"):\n",
    "            tags.append(link.text)"
   ]
  },
  {
   "cell_type": "code",
   "execution_count": null,
   "metadata": {},
   "outputs": [],
   "source": []
  }
 ],
 "metadata": {
  "kernelspec": {
   "display_name": "Python 3",
   "language": "python",
   "name": "python3"
  },
  "language_info": {
   "codemirror_mode": {
    "name": "ipython",
    "version": 3
   },
   "file_extension": ".py",
   "mimetype": "text/x-python",
   "name": "python",
   "nbconvert_exporter": "python",
   "pygments_lexer": "ipython3",
   "version": "3.6.8"
  }
 },
 "nbformat": 4,
 "nbformat_minor": 2
}
